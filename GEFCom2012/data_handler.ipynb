data_path = '/home/bmoir/Work/Kaggle/ELF/Data/'
import csv

with open(data_path + 'Processed_Load.csv', 'wb') as writefile:
    with open(data_path + 'Load_history.csv', 'rb') as readfile:
        loadreader = csv.reader(readfile)
        loadwriter = csv.writer(writefile)
        head = loadreader.next()
        loadwriter.writerow([head[0], 'datetime', 'load'])
        for row in loadreader:
            for i in range(1, 25):
		z_id=row[0]
		datetime = row[1]+'-'+row[2]+'-'+row[3]
		load = row[i+3].replace(',', '')
		if row[1] == '2008' and row[2] == '7' and load == '': continue
                loadwriter.writerow([z_id, datetime, load])

with open(data_path + 'Processed_Temp.csv', 'wb') as writefile:
    with open(data_path + 'temperature_history.csv', 'rb') as readfile:
        loadreader = csv.reader(readfile)
        loadwriter = csv.writer(writefile)
        head = loadreader.next()
        loadwriter.writerow([head[0], 'temp', 'datetime', 'hour', 'month'])
        for row in loadreader:
            for i in range(1, 25):
		s_id = row[0]
		datetime = row[1]+'-'+row[2]+'-'+row[3]
		month = row[2]
		hour = i
		temp = row[i+3]

                loadwriter.writerow([s_id, temp, datetime, hour, month])

